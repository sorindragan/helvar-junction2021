{
 "cells": [
  {
   "cell_type": "markdown",
   "id": "6614fa3f",
   "metadata": {},
   "source": [
    "<h1>Helvar Starter Kit</h1>\n",
    "<h3>Welcome to Helvar's Junction Challenge!</h3>\n",
    "<p>This notebook is to help you get acquainted with the dataset. You can follow the instructions to easily load and visualize datasets. However, this is only for convenience purposes. You are welcome to use whatever tools you are comfortable with, as we are only interested in results!</p>\n",
    "<p>Let's Begin by first loading all necessary libraries for this notebook to run.</p>"
   ]
  },
  {
   "cell_type": "code",
   "execution_count": 1,
   "id": "59c860e7-159a-44d3-b937-b0292e6b5116",
   "metadata": {},
   "outputs": [],
   "source": [
    "%load_ext autoreload\n",
    "%autoreload 2\n",
    "import pandas as pd\n",
    "import numpy as np\n",
    "import base64\n",
    "import imageio as iio\n",
    "from plotting import Plotting\n",
    "import plotly.graph_objects as go"
   ]
  },
  {
   "cell_type": "markdown",
   "id": "12d68ab6",
   "metadata": {},
   "source": [
    "<p>This starter kit contains sample datafiles. You can also download the full datasets in the README document. Please remember to place the downloaded zip file in the data folder and unzip it.</p>\n",
    "<ol>\n",
    "<li>First load the pickle file and convert the timestamps to Helsinki timezone</li>\n",
    "<li>Next load the json file containing deviceids</li>\n",
    "<li>Finally load the png file as both a numpy array and a base64 encoded image. We need the later for plotting in Plotly helper functions</li>\n",
    "</ol>"
   ]
  },
  {
   "cell_type": "code",
   "execution_count": 2,
   "id": "48f7568b-fbee-49eb-a966-87ee9556479e",
   "metadata": {},
   "outputs": [],
   "source": [
    "site = 'site_1'"
   ]
  },
  {
   "cell_type": "code",
   "execution_count": 3,
   "id": "000e4053-b1bd-491c-b95a-a4249d5830ea",
   "metadata": {},
   "outputs": [],
   "source": [
    "df_events = pd.read_pickle(f'./data/{site}/{site}.pkl', compression='gzip')"
   ]
  },
  {
   "cell_type": "code",
   "execution_count": 4,
   "id": "35e6a3ab-08ff-4ff5-9ab1-0ad383c4c4a8",
   "metadata": {},
   "outputs": [],
   "source": [
    "df_events.loc[:, 'timestamp'] = (pd.to_datetime(df_events['timestamp'], utc=True)\n",
    "                                 .dt.tz_convert('Europe/Helsinki')\n",
    "                                 .dt.tz_localize(None))"
   ]
  },
  {
   "cell_type": "code",
   "execution_count": 5,
   "id": "50ff71e3-ce6c-4b17-8bce-81a0555de690",
   "metadata": {},
   "outputs": [
    {
     "data": {
      "text/html": [
       "<div>\n",
       "<style scoped>\n",
       "    .dataframe tbody tr th:only-of-type {\n",
       "        vertical-align: middle;\n",
       "    }\n",
       "\n",
       "    .dataframe tbody tr th {\n",
       "        vertical-align: top;\n",
       "    }\n",
       "\n",
       "    .dataframe thead th {\n",
       "        text-align: right;\n",
       "    }\n",
       "</style>\n",
       "<table border=\"1\" class=\"dataframe\">\n",
       "  <thead>\n",
       "    <tr style=\"text-align: right;\">\n",
       "      <th></th>\n",
       "      <th>timestamp</th>\n",
       "      <th>deviceid</th>\n",
       "    </tr>\n",
       "  </thead>\n",
       "  <tbody>\n",
       "    <tr>\n",
       "      <th>0</th>\n",
       "      <td>2021-06-27 14:18:04.530398</td>\n",
       "      <td>30</td>\n",
       "    </tr>\n",
       "    <tr>\n",
       "      <th>1</th>\n",
       "      <td>2021-06-27 14:18:37.952030</td>\n",
       "      <td>30</td>\n",
       "    </tr>\n",
       "    <tr>\n",
       "      <th>2</th>\n",
       "      <td>2021-06-27 14:23:31.079242</td>\n",
       "      <td>30</td>\n",
       "    </tr>\n",
       "    <tr>\n",
       "      <th>3</th>\n",
       "      <td>2021-06-27 14:24:02.759153</td>\n",
       "      <td>30</td>\n",
       "    </tr>\n",
       "    <tr>\n",
       "      <th>4</th>\n",
       "      <td>2021-06-27 14:24:40.095851</td>\n",
       "      <td>30</td>\n",
       "    </tr>\n",
       "  </tbody>\n",
       "</table>\n",
       "</div>"
      ],
      "text/plain": [
       "                   timestamp  deviceid\n",
       "0 2021-06-27 14:18:04.530398        30\n",
       "1 2021-06-27 14:18:37.952030        30\n",
       "2 2021-06-27 14:23:31.079242        30\n",
       "3 2021-06-27 14:24:02.759153        30\n",
       "4 2021-06-27 14:24:40.095851        30"
      ]
     },
     "execution_count": 5,
     "metadata": {},
     "output_type": "execute_result"
    }
   ],
   "source": [
    "df_events.head(5)"
   ]
  },
  {
   "cell_type": "code",
   "execution_count": 6,
   "id": "147c7d63-b42d-479d-8a25-c7303771d34a",
   "metadata": {},
   "outputs": [],
   "source": [
    "df_devices = pd.read_json(f'./data/{site}/{site}.json')"
   ]
  },
  {
   "cell_type": "code",
   "execution_count": 7,
   "id": "2085d9da-02db-426a-ad23-6d7b5c12e2a9",
   "metadata": {},
   "outputs": [
    {
     "data": {
      "text/html": [
       "<div>\n",
       "<style scoped>\n",
       "    .dataframe tbody tr th:only-of-type {\n",
       "        vertical-align: middle;\n",
       "    }\n",
       "\n",
       "    .dataframe tbody tr th {\n",
       "        vertical-align: top;\n",
       "    }\n",
       "\n",
       "    .dataframe thead th {\n",
       "        text-align: right;\n",
       "    }\n",
       "</style>\n",
       "<table border=\"1\" class=\"dataframe\">\n",
       "  <thead>\n",
       "    <tr style=\"text-align: right;\">\n",
       "      <th></th>\n",
       "      <th>deviceid</th>\n",
       "      <th>x</th>\n",
       "      <th>y</th>\n",
       "    </tr>\n",
       "  </thead>\n",
       "  <tbody>\n",
       "    <tr>\n",
       "      <th>0</th>\n",
       "      <td>0</td>\n",
       "      <td>3105.506450</td>\n",
       "      <td>1848.240230</td>\n",
       "    </tr>\n",
       "    <tr>\n",
       "      <th>1</th>\n",
       "      <td>1</td>\n",
       "      <td>2923.139872</td>\n",
       "      <td>1833.963047</td>\n",
       "    </tr>\n",
       "    <tr>\n",
       "      <th>2</th>\n",
       "      <td>2</td>\n",
       "      <td>3887.345883</td>\n",
       "      <td>1334.631008</td>\n",
       "    </tr>\n",
       "    <tr>\n",
       "      <th>3</th>\n",
       "      <td>3</td>\n",
       "      <td>4182.726187</td>\n",
       "      <td>1350.439368</td>\n",
       "    </tr>\n",
       "    <tr>\n",
       "      <th>4</th>\n",
       "      <td>4</td>\n",
       "      <td>4331.192525</td>\n",
       "      <td>1355.676081</td>\n",
       "    </tr>\n",
       "  </tbody>\n",
       "</table>\n",
       "</div>"
      ],
      "text/plain": [
       "   deviceid            x            y\n",
       "0         0  3105.506450  1848.240230\n",
       "1         1  2923.139872  1833.963047\n",
       "2         2  3887.345883  1334.631008\n",
       "3         3  4182.726187  1350.439368\n",
       "4         4  4331.192525  1355.676081"
      ]
     },
     "execution_count": 7,
     "metadata": {},
     "output_type": "execute_result"
    }
   ],
   "source": [
    "df_devices.head(5)"
   ]
  },
  {
   "cell_type": "code",
   "execution_count": 8,
   "id": "562bf423-48c0-4963-8bd3-43062cca7f68",
   "metadata": {},
   "outputs": [],
   "source": [
    "with open(f'./data/{site}/{site}.png', \"rb\") as image_file:\n",
    "    encoded_string = base64.b64encode(image_file.read()).decode()"
   ]
  },
  {
   "cell_type": "code",
   "execution_count": 9,
   "id": "829f4aeb-533e-4b87-a865-00ab4027a21c",
   "metadata": {},
   "outputs": [
    {
     "data": {
      "text/plain": [
       "(2635, 5270, 4)"
      ]
     },
     "execution_count": 9,
     "metadata": {},
     "output_type": "execute_result"
    }
   ],
   "source": [
    "img = iio.imread(f'./data/{site}/{site}.png')\n",
    "img.shape"
   ]
  },
  {
   "cell_type": "markdown",
   "id": "b19d9ced-6093-4601-860e-3c8e4ac8c124",
   "metadata": {},
   "source": [
    "We can now load the floorplan just to get a feel of what the devices look like."
   ]
  },
  {
   "cell_type": "code",
   "execution_count": 10,
   "id": "2f41bd7d-8dfc-4d83-9134-b6ad36548e45",
   "metadata": {},
   "outputs": [
    {
     "name": "stdout",
     "output_type": "stream",
     "text": [
      "Opening in existing browser session.\n"
     ]
    }
   ],
   "source": [
    "scaling_factor = 3 # Set to 1 for highest resolution\n",
    "plotting_obj = Plotting(bg_img=encoded_string, dims=(img.shape[1], img.shape[0]), df_devices=df_devices, scaling_factor=scaling_factor)\n",
    "plotting_obj.run(renderer='browser') # Switch to iframe if you would like to view it here"
   ]
  },
  {
   "cell_type": "markdown",
   "id": "9a6580dd-a272-45ae-8ab4-4d929ffb0bd7",
   "metadata": {},
   "source": [
    "## View Occupancy by Day\n",
    "<p>Since we are dealing with irregular IoT event data, we need to define our time-series window size and compute a statistic for the events during that window. This example shows the sum of events per day. </p>"
   ]
  },
  {
   "cell_type": "code",
   "execution_count": 11,
   "id": "a5f19638-d0b4-4ea5-8ea4-a5973f87b048",
   "metadata": {},
   "outputs": [],
   "source": [
    "df_events_day = df_events.copy()\n",
    "df_events_day.loc[:, 'timestamp'] = df_events_day['timestamp'].dt.floor('1s')\n",
    "df_events_day.loc[:, 'value'] = 1.0\n",
    "df_events_day = df_events_day.groupby('timestamp').sum()\n",
    "df_events_day = df_events_day.drop(['deviceid'], axis=1)\n",
    "df_events_day = df_events_day.reindex(pd.date_range(df_events_day.index.min(), df_events_day.index.max(), freq='1s')).fillna(0)"
   ]
  },
  {
   "cell_type": "code",
   "execution_count": 12,
   "id": "4b63dc11-4314-4ef2-8fdd-25f493cbc5b3",
   "metadata": {},
   "outputs": [
    {
     "data": {
      "text/html": [
       "<div>\n",
       "<style scoped>\n",
       "    .dataframe tbody tr th:only-of-type {\n",
       "        vertical-align: middle;\n",
       "    }\n",
       "\n",
       "    .dataframe tbody tr th {\n",
       "        vertical-align: top;\n",
       "    }\n",
       "\n",
       "    .dataframe thead th {\n",
       "        text-align: right;\n",
       "    }\n",
       "</style>\n",
       "<table border=\"1\" class=\"dataframe\">\n",
       "  <thead>\n",
       "    <tr style=\"text-align: right;\">\n",
       "      <th></th>\n",
       "      <th>value</th>\n",
       "    </tr>\n",
       "  </thead>\n",
       "  <tbody>\n",
       "    <tr>\n",
       "      <th>2021-05-05 00:04:02</th>\n",
       "      <td>2.0</td>\n",
       "    </tr>\n",
       "    <tr>\n",
       "      <th>2021-05-05 00:04:03</th>\n",
       "      <td>0.0</td>\n",
       "    </tr>\n",
       "    <tr>\n",
       "      <th>2021-05-05 00:04:04</th>\n",
       "      <td>0.0</td>\n",
       "    </tr>\n",
       "    <tr>\n",
       "      <th>2021-05-05 00:04:05</th>\n",
       "      <td>0.0</td>\n",
       "    </tr>\n",
       "    <tr>\n",
       "      <th>2021-05-05 00:04:06</th>\n",
       "      <td>0.0</td>\n",
       "    </tr>\n",
       "    <tr>\n",
       "      <th>...</th>\n",
       "      <td>...</td>\n",
       "    </tr>\n",
       "    <tr>\n",
       "      <th>2021-10-31 23:54:40</th>\n",
       "      <td>0.0</td>\n",
       "    </tr>\n",
       "    <tr>\n",
       "      <th>2021-10-31 23:54:41</th>\n",
       "      <td>0.0</td>\n",
       "    </tr>\n",
       "    <tr>\n",
       "      <th>2021-10-31 23:54:42</th>\n",
       "      <td>0.0</td>\n",
       "    </tr>\n",
       "    <tr>\n",
       "      <th>2021-10-31 23:54:43</th>\n",
       "      <td>0.0</td>\n",
       "    </tr>\n",
       "    <tr>\n",
       "      <th>2021-10-31 23:54:44</th>\n",
       "      <td>1.0</td>\n",
       "    </tr>\n",
       "  </tbody>\n",
       "</table>\n",
       "<p>15551443 rows × 1 columns</p>\n",
       "</div>"
      ],
      "text/plain": [
       "                     value\n",
       "2021-05-05 00:04:02    2.0\n",
       "2021-05-05 00:04:03    0.0\n",
       "2021-05-05 00:04:04    0.0\n",
       "2021-05-05 00:04:05    0.0\n",
       "2021-05-05 00:04:06    0.0\n",
       "...                    ...\n",
       "2021-10-31 23:54:40    0.0\n",
       "2021-10-31 23:54:41    0.0\n",
       "2021-10-31 23:54:42    0.0\n",
       "2021-10-31 23:54:43    0.0\n",
       "2021-10-31 23:54:44    1.0\n",
       "\n",
       "[15551443 rows x 1 columns]"
      ]
     },
     "execution_count": 12,
     "metadata": {},
     "output_type": "execute_result"
    }
   ],
   "source": [
    "df_events_day"
   ]
  },
  {
   "cell_type": "code",
   "execution_count": 13,
   "id": "fd8cb29c-159d-4482-8a74-29eba3862f6e",
   "metadata": {},
   "outputs": [],
   "source": [
    "fig = go.Figure(data=[go.Scatter(x=df_events_day.index, y=df_events_day['value'])],\n",
    "                layout=dict(height=700, width=1500))\n",
    "fig.show()"
   ]
  },
  {
   "cell_type": "markdown",
   "id": "8781e068-b2b7-402f-824e-d018198671e3",
   "metadata": {},
   "source": [
    "## Animate Data\n",
    "\n",
    "<p>The plotting helper script contains an animation engine utilising Plotly. It is extremely simple to use. Here is an example where we aggregate data into 5 minute bins, and then visualize how motion sensors are triggered through 1 day. You can choose different time intervals, but please remember that higher time granularities can end up rendering a lot of frames and might lead to performance issues. In this example, the total number of frames is (60//5) * 24 = 288</p>"
   ]
  },
  {
   "cell_type": "code",
   "execution_count": 15,
   "metadata": {},
   "outputs": [
    {
     "data": {
      "text/html": [
       "<div>\n",
       "<style scoped>\n",
       "    .dataframe tbody tr th:only-of-type {\n",
       "        vertical-align: middle;\n",
       "    }\n",
       "\n",
       "    .dataframe tbody tr th {\n",
       "        vertical-align: top;\n",
       "    }\n",
       "\n",
       "    .dataframe thead th {\n",
       "        text-align: right;\n",
       "    }\n",
       "</style>\n",
       "<table border=\"1\" class=\"dataframe\">\n",
       "  <thead>\n",
       "    <tr style=\"text-align: right;\">\n",
       "      <th></th>\n",
       "      <th>timestamp</th>\n",
       "      <th>deviceid</th>\n",
       "    </tr>\n",
       "  </thead>\n",
       "  <tbody>\n",
       "    <tr>\n",
       "      <th>138435</th>\n",
       "      <td>2021-09-07 00:26:12.453436</td>\n",
       "      <td>30</td>\n",
       "    </tr>\n",
       "    <tr>\n",
       "      <th>138436</th>\n",
       "      <td>2021-09-07 00:26:12.453436</td>\n",
       "      <td>30</td>\n",
       "    </tr>\n",
       "    <tr>\n",
       "      <th>138437</th>\n",
       "      <td>2021-09-07 00:26:12.453436</td>\n",
       "      <td>30</td>\n",
       "    </tr>\n",
       "    <tr>\n",
       "      <th>150222</th>\n",
       "      <td>2021-09-07 00:07:15.304654</td>\n",
       "      <td>30</td>\n",
       "    </tr>\n",
       "    <tr>\n",
       "      <th>150223</th>\n",
       "      <td>2021-09-07 00:07:43.462599</td>\n",
       "      <td>30</td>\n",
       "    </tr>\n",
       "    <tr>\n",
       "      <th>...</th>\n",
       "      <td>...</td>\n",
       "      <td>...</td>\n",
       "    </tr>\n",
       "    <tr>\n",
       "      <th>1561018</th>\n",
       "      <td>2021-09-07 10:06:21.740995</td>\n",
       "      <td>33</td>\n",
       "    </tr>\n",
       "    <tr>\n",
       "      <th>1561019</th>\n",
       "      <td>2021-09-07 10:06:15.900765</td>\n",
       "      <td>22</td>\n",
       "    </tr>\n",
       "    <tr>\n",
       "      <th>1561020</th>\n",
       "      <td>2021-09-07 10:06:19.582178</td>\n",
       "      <td>32</td>\n",
       "    </tr>\n",
       "    <tr>\n",
       "      <th>1561021</th>\n",
       "      <td>2021-09-07 10:06:14.287156</td>\n",
       "      <td>47</td>\n",
       "    </tr>\n",
       "    <tr>\n",
       "      <th>1561022</th>\n",
       "      <td>2021-09-07 10:06:23.457093</td>\n",
       "      <td>0</td>\n",
       "    </tr>\n",
       "  </tbody>\n",
       "</table>\n",
       "<p>32507 rows × 2 columns</p>\n",
       "</div>"
      ],
      "text/plain": [
       "                         timestamp  deviceid\n",
       "138435  2021-09-07 00:26:12.453436        30\n",
       "138436  2021-09-07 00:26:12.453436        30\n",
       "138437  2021-09-07 00:26:12.453436        30\n",
       "150222  2021-09-07 00:07:15.304654        30\n",
       "150223  2021-09-07 00:07:43.462599        30\n",
       "...                            ...       ...\n",
       "1561018 2021-09-07 10:06:21.740995        33\n",
       "1561019 2021-09-07 10:06:15.900765        22\n",
       "1561020 2021-09-07 10:06:19.582178        32\n",
       "1561021 2021-09-07 10:06:14.287156        47\n",
       "1561022 2021-09-07 10:06:23.457093         0\n",
       "\n",
       "[32507 rows x 2 columns]"
      ]
     },
     "execution_count": 15,
     "metadata": {},
     "output_type": "execute_result"
    }
   ],
   "source": [
    "\n",
    "df_events_day = df_events[df_events.timestamp.dt.date.astype(str) == \"2021-09-07\"].copy()\n",
    "df_events_day"
   ]
  },
  {
   "cell_type": "code",
   "execution_count": 16,
   "metadata": {},
   "outputs": [
    {
     "data": {
      "text/html": [
       "<div>\n",
       "<style scoped>\n",
       "    .dataframe tbody tr th:only-of-type {\n",
       "        vertical-align: middle;\n",
       "    }\n",
       "\n",
       "    .dataframe tbody tr th {\n",
       "        vertical-align: top;\n",
       "    }\n",
       "\n",
       "    .dataframe thead th {\n",
       "        text-align: right;\n",
       "    }\n",
       "</style>\n",
       "<table border=\"1\" class=\"dataframe\">\n",
       "  <thead>\n",
       "    <tr style=\"text-align: right;\">\n",
       "      <th></th>\n",
       "      <th>timestamp</th>\n",
       "      <th>deviceid</th>\n",
       "    </tr>\n",
       "  </thead>\n",
       "  <tbody>\n",
       "    <tr>\n",
       "      <th>138435</th>\n",
       "      <td>2021-09-07 00:26:12</td>\n",
       "      <td>30</td>\n",
       "    </tr>\n",
       "    <tr>\n",
       "      <th>138436</th>\n",
       "      <td>2021-09-07 00:26:12</td>\n",
       "      <td>30</td>\n",
       "    </tr>\n",
       "    <tr>\n",
       "      <th>138437</th>\n",
       "      <td>2021-09-07 00:26:12</td>\n",
       "      <td>30</td>\n",
       "    </tr>\n",
       "    <tr>\n",
       "      <th>150222</th>\n",
       "      <td>2021-09-07 00:07:15</td>\n",
       "      <td>30</td>\n",
       "    </tr>\n",
       "    <tr>\n",
       "      <th>150223</th>\n",
       "      <td>2021-09-07 00:07:43</td>\n",
       "      <td>30</td>\n",
       "    </tr>\n",
       "    <tr>\n",
       "      <th>...</th>\n",
       "      <td>...</td>\n",
       "      <td>...</td>\n",
       "    </tr>\n",
       "    <tr>\n",
       "      <th>1561018</th>\n",
       "      <td>2021-09-07 10:06:21</td>\n",
       "      <td>33</td>\n",
       "    </tr>\n",
       "    <tr>\n",
       "      <th>1561019</th>\n",
       "      <td>2021-09-07 10:06:15</td>\n",
       "      <td>22</td>\n",
       "    </tr>\n",
       "    <tr>\n",
       "      <th>1561020</th>\n",
       "      <td>2021-09-07 10:06:19</td>\n",
       "      <td>32</td>\n",
       "    </tr>\n",
       "    <tr>\n",
       "      <th>1561021</th>\n",
       "      <td>2021-09-07 10:06:14</td>\n",
       "      <td>47</td>\n",
       "    </tr>\n",
       "    <tr>\n",
       "      <th>1561022</th>\n",
       "      <td>2021-09-07 10:06:23</td>\n",
       "      <td>0</td>\n",
       "    </tr>\n",
       "  </tbody>\n",
       "</table>\n",
       "<p>32507 rows × 2 columns</p>\n",
       "</div>"
      ],
      "text/plain": [
       "                  timestamp  deviceid\n",
       "138435  2021-09-07 00:26:12        30\n",
       "138436  2021-09-07 00:26:12        30\n",
       "138437  2021-09-07 00:26:12        30\n",
       "150222  2021-09-07 00:07:15        30\n",
       "150223  2021-09-07 00:07:43        30\n",
       "...                     ...       ...\n",
       "1561018 2021-09-07 10:06:21        33\n",
       "1561019 2021-09-07 10:06:15        22\n",
       "1561020 2021-09-07 10:06:19        32\n",
       "1561021 2021-09-07 10:06:14        47\n",
       "1561022 2021-09-07 10:06:23         0\n",
       "\n",
       "[32507 rows x 2 columns]"
      ]
     },
     "execution_count": 16,
     "metadata": {},
     "output_type": "execute_result"
    }
   ],
   "source": [
    "\n",
    "df_events_day.timestamp = df_events_day.timestamp.dt.floor('1s')\n",
    "df_events_day"
   ]
  },
  {
   "cell_type": "code",
   "execution_count": 17,
   "metadata": {},
   "outputs": [
    {
     "data": {
      "text/html": [
       "<div>\n",
       "<style scoped>\n",
       "    .dataframe tbody tr th:only-of-type {\n",
       "        vertical-align: middle;\n",
       "    }\n",
       "\n",
       "    .dataframe tbody tr th {\n",
       "        vertical-align: top;\n",
       "    }\n",
       "\n",
       "    .dataframe thead th {\n",
       "        text-align: right;\n",
       "    }\n",
       "</style>\n",
       "<table border=\"1\" class=\"dataframe\">\n",
       "  <thead>\n",
       "    <tr style=\"text-align: right;\">\n",
       "      <th></th>\n",
       "      <th>timestamp</th>\n",
       "      <th>deviceid</th>\n",
       "      <th>b</th>\n",
       "    </tr>\n",
       "  </thead>\n",
       "  <tbody>\n",
       "    <tr>\n",
       "      <th>138435</th>\n",
       "      <td>2021-09-07 00:26:12</td>\n",
       "      <td>30</td>\n",
       "      <td>1</td>\n",
       "    </tr>\n",
       "    <tr>\n",
       "      <th>138436</th>\n",
       "      <td>2021-09-07 00:26:12</td>\n",
       "      <td>30</td>\n",
       "      <td>1</td>\n",
       "    </tr>\n",
       "    <tr>\n",
       "      <th>138437</th>\n",
       "      <td>2021-09-07 00:26:12</td>\n",
       "      <td>30</td>\n",
       "      <td>1</td>\n",
       "    </tr>\n",
       "    <tr>\n",
       "      <th>150222</th>\n",
       "      <td>2021-09-07 00:07:15</td>\n",
       "      <td>30</td>\n",
       "      <td>1</td>\n",
       "    </tr>\n",
       "    <tr>\n",
       "      <th>150223</th>\n",
       "      <td>2021-09-07 00:07:43</td>\n",
       "      <td>30</td>\n",
       "      <td>1</td>\n",
       "    </tr>\n",
       "    <tr>\n",
       "      <th>...</th>\n",
       "      <td>...</td>\n",
       "      <td>...</td>\n",
       "      <td>...</td>\n",
       "    </tr>\n",
       "    <tr>\n",
       "      <th>1561018</th>\n",
       "      <td>2021-09-07 10:06:21</td>\n",
       "      <td>33</td>\n",
       "      <td>1</td>\n",
       "    </tr>\n",
       "    <tr>\n",
       "      <th>1561019</th>\n",
       "      <td>2021-09-07 10:06:15</td>\n",
       "      <td>22</td>\n",
       "      <td>1</td>\n",
       "    </tr>\n",
       "    <tr>\n",
       "      <th>1561020</th>\n",
       "      <td>2021-09-07 10:06:19</td>\n",
       "      <td>32</td>\n",
       "      <td>1</td>\n",
       "    </tr>\n",
       "    <tr>\n",
       "      <th>1561021</th>\n",
       "      <td>2021-09-07 10:06:14</td>\n",
       "      <td>47</td>\n",
       "      <td>1</td>\n",
       "    </tr>\n",
       "    <tr>\n",
       "      <th>1561022</th>\n",
       "      <td>2021-09-07 10:06:23</td>\n",
       "      <td>0</td>\n",
       "      <td>1</td>\n",
       "    </tr>\n",
       "  </tbody>\n",
       "</table>\n",
       "<p>32507 rows × 3 columns</p>\n",
       "</div>"
      ],
      "text/plain": [
       "                  timestamp  deviceid  b\n",
       "138435  2021-09-07 00:26:12        30  1\n",
       "138436  2021-09-07 00:26:12        30  1\n",
       "138437  2021-09-07 00:26:12        30  1\n",
       "150222  2021-09-07 00:07:15        30  1\n",
       "150223  2021-09-07 00:07:43        30  1\n",
       "...                     ...       ... ..\n",
       "1561018 2021-09-07 10:06:21        33  1\n",
       "1561019 2021-09-07 10:06:15        22  1\n",
       "1561020 2021-09-07 10:06:19        32  1\n",
       "1561021 2021-09-07 10:06:14        47  1\n",
       "1561022 2021-09-07 10:06:23         0  1\n",
       "\n",
       "[32507 rows x 3 columns]"
      ]
     },
     "execution_count": 17,
     "metadata": {},
     "output_type": "execute_result"
    }
   ],
   "source": [
    "\n",
    "df_events_day.loc[:, 'b'] = 1\n",
    "df_events_day"
   ]
  },
  {
   "cell_type": "code",
   "execution_count": 18,
   "metadata": {},
   "outputs": [
    {
     "data": {
      "text/html": [
       "<div>\n",
       "<style scoped>\n",
       "    .dataframe tbody tr th:only-of-type {\n",
       "        vertical-align: middle;\n",
       "    }\n",
       "\n",
       "    .dataframe tbody tr th {\n",
       "        vertical-align: top;\n",
       "    }\n",
       "\n",
       "    .dataframe thead th {\n",
       "        text-align: right;\n",
       "    }\n",
       "</style>\n",
       "<table border=\"1\" class=\"dataframe\">\n",
       "  <thead>\n",
       "    <tr style=\"text-align: right;\">\n",
       "      <th></th>\n",
       "      <th></th>\n",
       "      <th>b</th>\n",
       "    </tr>\n",
       "    <tr>\n",
       "      <th>deviceid</th>\n",
       "      <th>timestamp</th>\n",
       "      <th></th>\n",
       "    </tr>\n",
       "  </thead>\n",
       "  <tbody>\n",
       "    <tr>\n",
       "      <th rowspan=\"5\" valign=\"top\">0</th>\n",
       "      <th>2021-09-07 06:02:37</th>\n",
       "      <td>25</td>\n",
       "    </tr>\n",
       "    <tr>\n",
       "      <th>2021-09-07 06:03:20</th>\n",
       "      <td>1</td>\n",
       "    </tr>\n",
       "    <tr>\n",
       "      <th>2021-09-07 06:07:44</th>\n",
       "      <td>1</td>\n",
       "    </tr>\n",
       "    <tr>\n",
       "      <th>2021-09-07 06:08:28</th>\n",
       "      <td>1</td>\n",
       "    </tr>\n",
       "    <tr>\n",
       "      <th>2021-09-07 06:13:07</th>\n",
       "      <td>18</td>\n",
       "    </tr>\n",
       "    <tr>\n",
       "      <th>...</th>\n",
       "      <th>...</th>\n",
       "      <td>...</td>\n",
       "    </tr>\n",
       "    <tr>\n",
       "      <th rowspan=\"5\" valign=\"top\">55</th>\n",
       "      <th>2021-09-07 15:54:46</th>\n",
       "      <td>5</td>\n",
       "    </tr>\n",
       "    <tr>\n",
       "      <th>2021-09-07 15:55:28</th>\n",
       "      <td>1</td>\n",
       "    </tr>\n",
       "    <tr>\n",
       "      <th>2021-09-07 15:55:57</th>\n",
       "      <td>1</td>\n",
       "    </tr>\n",
       "    <tr>\n",
       "      <th>2021-09-07 15:56:30</th>\n",
       "      <td>2</td>\n",
       "    </tr>\n",
       "    <tr>\n",
       "      <th>2021-09-07 15:57:14</th>\n",
       "      <td>1</td>\n",
       "    </tr>\n",
       "  </tbody>\n",
       "</table>\n",
       "<p>14957 rows × 1 columns</p>\n",
       "</div>"
      ],
      "text/plain": [
       "                               b\n",
       "deviceid timestamp              \n",
       "0        2021-09-07 06:02:37  25\n",
       "         2021-09-07 06:03:20   1\n",
       "         2021-09-07 06:07:44   1\n",
       "         2021-09-07 06:08:28   1\n",
       "         2021-09-07 06:13:07  18\n",
       "...                           ..\n",
       "55       2021-09-07 15:54:46   5\n",
       "         2021-09-07 15:55:28   1\n",
       "         2021-09-07 15:55:57   1\n",
       "         2021-09-07 15:56:30   2\n",
       "         2021-09-07 15:57:14   1\n",
       "\n",
       "[14957 rows x 1 columns]"
      ]
     },
     "execution_count": 18,
     "metadata": {},
     "output_type": "execute_result"
    }
   ],
   "source": [
    "\n",
    "df_events_day = df_events_day.groupby(['deviceid', 'timestamp']).sum()\n",
    "df_events_day"
   ]
  },
  {
   "cell_type": "code",
   "execution_count": null,
   "metadata": {},
   "outputs": [],
   "source": [
    "\n",
    "df_events_day = df_events_day.pivot_table(index='timestamp', columns='deviceid', values='b')\n",
    "df_events_day"
   ]
  },
  {
   "cell_type": "code",
   "execution_count": null,
   "metadata": {},
   "outputs": [],
   "source": [
    "\n",
    "df_events_day = df_events_day.reindex(pd.date_range(df_events_day.index.min().floor('1D'), df_events_day.index.max().ceil('1D'), freq='1s', closed='left')).fillna(0)\n",
    "df_events_day"
   ]
  },
  {
   "cell_type": "code",
   "execution_count": 19,
   "id": "d2e5f741-80cd-48dd-bc6a-98c2b5dc16e3",
   "metadata": {},
   "outputs": [
    {
     "ename": "SyntaxError",
     "evalue": "invalid syntax (3230352238.py, line 1)",
     "output_type": "error",
     "traceback": [
      "\u001b[0;36m  File \u001b[0;32m\"/tmp/ipykernel_69026/3230352238.py\"\u001b[0;36m, line \u001b[0;32m1\u001b[0m\n\u001b[0;31m    df_events_day = df_events[df_events.timestamp.dt.date.astype(str) => \"2021-09-07\"].copy()\u001b[0m\n\u001b[0m                                                                      ^\u001b[0m\n\u001b[0;31mSyntaxError\u001b[0m\u001b[0;31m:\u001b[0m invalid syntax\n"
     ]
    }
   ],
   "source": [
    "df_events_day = df_events[df_events.timestamp.dt.date.astype(str) == \"2021-09-07\"].copy()\n",
    "df_events_day.timestamp = df_events_day.timestamp.dt.floor('1s')\n",
    "df_events_day.loc[:, 'b'] = 1\n",
    "df_events_day = df_events_day.groupby(['deviceid', 'timestamp']).sum()\n",
    "df_events_day = df_events_day.pivot_table(index='timestamp', columns='deviceid', values='b')\n",
    "df_events_day = df_events_day.reindex(pd.date_range(df_events_day.index.min().floor('1D'), df_events_day.index.max().ceil('1D'), freq='1s', closed='left')).fillna(0)"
   ]
  },
  {
   "cell_type": "code",
   "execution_count": 14,
   "metadata": {},
   "outputs": [
    {
     "data": {
      "text/plain": [
       "(86400, 48)"
      ]
     },
     "execution_count": 14,
     "metadata": {},
     "output_type": "execute_result"
    }
   ],
   "source": [
    "df_events_day.shape"
   ]
  },
  {
   "cell_type": "code",
   "execution_count": 9,
   "metadata": {},
   "outputs": [],
   "source": [
    "df_events.timestamp = df_events.timestamp.dt.floor('1min')\n",
    "df_events.loc[:, 'b'] = 1\n",
    "df_events = df_events.groupby(['deviceid', 'timestamp']).sum()\n",
    "df_events = df_events.pivot_table(index='timestamp', columns='deviceid', values='b')\n",
    "df_events = df_events.reindex(pd.date_range(df_events.index.min().floor('1D'), df_events.index.max().ceil('1D'), freq='1s', closed='left')).fillna(0)"
   ]
  },
  {
   "cell_type": "code",
   "execution_count": null,
   "metadata": {},
   "outputs": [
    {
     "ename": "Error",
     "evalue": "Kernel is dead",
     "output_type": "error",
     "traceback": [
      "Error: Kernel is dead",
      "at g._sendKernelShellControl (/home/mvalente/.vscode/extensions/ms-toolsai.jupyter-2021.9.1101343141/out/client/extension.js:52:1006305)",
      "at g.sendShellMessage (/home/mvalente/.vscode/extensions/ms-toolsai.jupyter-2021.9.1101343141/out/client/extension.js:52:1006074)",
      "at g.requestExecute (/home/mvalente/.vscode/extensions/ms-toolsai.jupyter-2021.9.1101343141/out/client/extension.js:52:1008616)",
      "at d.requestExecute (/home/mvalente/.vscode/extensions/ms-toolsai.jupyter-2021.9.1101343141/out/client/extension.js:37:328037)",
      "at S.requestExecute (/home/mvalente/.vscode/extensions/ms-toolsai.jupyter-2021.9.1101343141/out/client/extension.js:32:19306)",
      "at w.executeCodeCell (/home/mvalente/.vscode/extensions/ms-toolsai.jupyter-2021.9.1101343141/out/client/extension.js:52:300924)",
      "at w.execute (/home/mvalente/.vscode/extensions/ms-toolsai.jupyter-2021.9.1101343141/out/client/extension.js:52:300551)",
      "at w.start (/home/mvalente/.vscode/extensions/ms-toolsai.jupyter-2021.9.1101343141/out/client/extension.js:52:296215)",
      "at runMicrotasks (<anonymous>)",
      "at processTicksAndRejections (internal/process/task_queues.js:93:5)",
      "at t.CellExecutionQueue.executeQueuedCells (/home/mvalente/.vscode/extensions/ms-toolsai.jupyter-2021.9.1101343141/out/client/extension.js:52:310950)",
      "at t.CellExecutionQueue.start (/home/mvalente/.vscode/extensions/ms-toolsai.jupyter-2021.9.1101343141/out/client/extension.js:52:310490)"
     ]
    }
   ],
   "source": [
    "df_events"
   ]
  },
  {
   "cell_type": "code",
   "execution_count": 39,
   "id": "970a5fe8-6c0b-4a50-ad41-291b78d4f601",
   "metadata": {},
   "outputs": [],
   "source": [
    "frames = df_events_day.to_dict(orient='records')\n",
    "ts = df_events_day.reset_index()[['index']].astype(str).to_dict(orient='records')"
   ]
  },
  {
   "cell_type": "code",
   "execution_count": 40,
   "metadata": {},
   "outputs": [],
   "source": [
    "half = int(len(frames)/2)"
   ]
  },
  {
   "cell_type": "code",
   "execution_count": 41,
   "id": "c2c13e1d-2259-4587-9197-9c9bc9ba1895",
   "metadata": {},
   "outputs": [
    {
     "name": "stdout",
     "output_type": "stream",
     "text": [
      "Opening in existing browser session.\n"
     ]
    }
   ],
   "source": [
    "plotting_obj = Plotting(bg_img=encoded_string, dims=(img.shape[1], img.shape[0]), df_devices=df_devices, scaling_factor=3)\n",
    "plotting_obj.populate_data(frames[half:half+2000], ts[half:half+2000])\n",
    "plotting_obj.run(renderer='browser')"
   ]
  },
  {
   "cell_type": "markdown",
   "id": "e2aa8874-4ef6-4d04-90d4-6c21ba130007",
   "metadata": {},
   "source": [
    "## Challenge Category 1\n",
    "<p>For the first challenge, we want to solve a real-world problem of indoor device mapping. The floorplans we have provided you with already contain mapped devices, meaning they have defined locations on a floorplan. In reality, this takes a lot of time. We physically need to identify each device inside the building and place them on a floorplan. The objective of this exercise is to come up with ways to speed up this process. We have written down some ideas below, however feel free to be creative! You can come up with entirely new ideas of your own.</p>\n",
    "\n",
    "#### Example Aproach:\n",
    "<p>Let's assume the floorplan contains 500 devices. We can delete 400 devices, and use the occupancy events data to identify neighbours. Once the neighbours have been identified, we can simply use the data to locate the missing 400 devices! This means our engineers only need to locate 100 devices, and let the system run for N days and then find the rest.</p> \n",
    "<p>The Machine Learning aspect of the challenge comes from: 1. increasing the number of deleted devices, and 2. the smallest possible value of N that gives the best mappings. You can use Euclidean distance between the predicted location of the object and the actual location from our provided floorplans to determine accuracy of your algorithm. We have provided 5 different sites with a variety of device configurations and data, so be sure to properly create Training and Test Datasets!</p>\n"
   ]
  },
  {
   "cell_type": "markdown",
   "id": "9305f900-bfce-4970-ad1b-c17022574d4c",
   "metadata": {},
   "source": [
    "## Challenge Category 2\n",
    "<p>The second challenge is more about providing value to the client. We have provided data from real-world buildings. These buildings are occupied according to certain predictable patterns. For example a school might only observe occupancy during the morning. A hospital or a shopping mall might observe occupancy throughout the day. The objective of this exercise is to determine how people move through buildings by combining spatial and temporal data. </p>\n",
    "\n",
    "#### Example Aproach:\n",
    "<p>We can define a graph network of devices, with the edge weights representing the distance between devices. Then depending on the proximity of devices and the correlation of events within a certain time-window, say 15 minutes, we can cluster the most frequently visited spaces in a building. By creating similar sequences across the day, week or month we can determine patterns that show us how the building is used at different times of the day, or different days of the week etc. We can also try to figure out which paths are dominant and which are used least frequently. Such information is extremely valuable to building owners and tenants.</p> \n",
    "<p>You can experiment with different windowing approaches. Try to think about what sort of metrics are important. Is it really worth investigaing how the occupancy changes at midnight, or is it worth understanding how people move through the building at 9AM? Also, does the pattern change during the week, for example do more people visit on Monday or Friday?</p>\n",
    "<p>We would love to see your ideas on what is the best way to present the results of this type of data analysis to the customers. UI/UX experts, we're looking at you!</p>\n"
   ]
  },
  {
   "cell_type": "markdown",
   "id": "5e4b38b0-fb81-4dfc-be88-a974cba3f355",
   "metadata": {},
   "source": [
    "## Challenge Category 3\n",
    "<p>The last challenge is related to a type of sensor that is not common in smart buildings at the moment: audio sensors. We have availabe motion sensors that generate occupancy data, but we decided to augmnet that with audio data. We want to explore the utility of incorporating more data sources in a smart building.</p>\n",
    "<p>The data collection is done at a garage, and contains 4 audio sensors placed in a rectangular grid. There is a lot of activity happening in the garage: people are walking, driving their car, or bicycles. The objective would be to identify these events by combining the audio streams from all the 4 sensors and by incorporating motion data to pinpoint where the activity was taking place.</p>\n",
    "\n",
    "#### Example Aproach:\n",
    "<p>This is an extremely open ended challenge. There are numerous ways this can be tackled. Clever audio signal processing, or using deep learning to detect events. The choice is yours.</p> "
   ]
  }
 ],
 "metadata": {
  "interpreter": {
   "hash": "fb5c173ce0ad091141310d5be362ccd4f852db07191b7abc77eb6e804faf99bd"
  },
  "kernelspec": {
   "display_name": "Python 3.9.7 64-bit ('junction': conda)",
   "name": "python3"
  },
  "language_info": {
   "codemirror_mode": {
    "name": "ipython",
    "version": 3
   },
   "file_extension": ".py",
   "mimetype": "text/x-python",
   "name": "python",
   "nbconvert_exporter": "python",
   "pygments_lexer": "ipython3",
   "version": "3.9.7"
  }
 },
 "nbformat": 4,
 "nbformat_minor": 5
}
